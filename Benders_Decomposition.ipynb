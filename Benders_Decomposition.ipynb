{
 "cells": [
  {
   "cell_type": "code",
   "execution_count": 2,
   "id": "6164232f",
   "metadata": {},
   "outputs": [
    {
     "name": "stderr",
     "output_type": "stream",
     "text": [
      "\u001b[32m\u001b[1m  Activating\u001b[22m\u001b[39m project at `C:\\Users\\lukas\\.julia\\environments\\v1.9`\n"
     ]
    }
   ],
   "source": [
    "using Pkg\n",
    "Pkg.activate(\".\")\n",
    "Pkg.instantiate()"
   ]
  },
  {
   "cell_type": "code",
   "execution_count": 3,
   "id": "f997eff0",
   "metadata": {},
   "outputs": [
    {
     "name": "stdout",
     "output_type": "stream",
     "text": [
      "\u001b[32m\u001b[1mStatus\u001b[22m\u001b[39m `C:\\Users\\lukas\\.julia\\environments\\v1.9\\Project.toml`\n",
      "  \u001b[90m[87dc4568] \u001b[39mHiGHS v1.7.5\n",
      "  \u001b[90m[7073ff75] \u001b[39mIJulia v1.24.2\n",
      "\u001b[32m⌃\u001b[39m \u001b[90m[4076af6c] \u001b[39mJuMP v1.16.0\n",
      "\u001b[36m\u001b[1mInfo\u001b[22m\u001b[39m Packages marked with \u001b[32m⌃\u001b[39m have new versions available and may be upgradable.\n"
     ]
    }
   ],
   "source": [
    "Pkg.status()"
   ]
  },
  {
   "cell_type": "code",
   "execution_count": 4,
   "id": "8bd932bc",
   "metadata": {},
   "outputs": [],
   "source": [
    "using JuMP, HiGHS"
   ]
  },
  {
   "attachments": {
    "image-3.png": {
     "image/png": "[encoded data removed]"
    }
   },
   "cell_type": "markdown",
   "id": "d1e737fa",
   "metadata": {},
   "source": [
    "We want to solve a LP using Benders decomposition with dual dynamic programming – DDP\n",
    "We have the problem:\n",
    "\n",
    "![image-3.png](attachment:image-3.png)"
   ]
  },
  {
   "cell_type": "code",
   "execution_count": 74,
   "id": "a870072d",
   "metadata": {},
   "outputs": [],
   "source": [
    "#initalize variables\n",
    "x_input=0  #intial fixed value of x for the subproblem\n",
    "wert=0 #intial value for the cancel condition\n",
    "alpha=-1 #intial value for the cancel condition\n",
    "i=1; #number of iteration (just for printing purposes)"
   ]
  },
  {
   "cell_type": "code",
   "execution_count": 75,
   "id": "67242081",
   "metadata": {},
   "outputs": [],
   "source": [
    "#define and initalize dual subproblem\n",
    "dual_Subproblem= Model(HiGHS.Optimizer)\n",
    "set_silent(dual_Subproblem)\n",
    "\n",
    "@variable(dual_Subproblem, λ >=0)\n",
    "@variable(dual_Subproblem, γ >=0)\n",
    "@variable(dual_Subproblem, μ>=0)\n",
    "@variable(dual_Subproblem, β >=0)\n",
    "@constraint(dual_Subproblem, -λ-γ-μ+β <= -1);\n"
   ]
  },
  {
   "cell_type": "code",
   "execution_count": 76,
   "id": "0fa21812",
   "metadata": {},
   "outputs": [],
   "source": [
    "#define and initalize masterproblem\n",
    "Masterproblem = Model(HiGHS.Optimizer)\n",
    "set_silent(Masterproblem)\n",
    "\n",
    "@variable(Masterproblem, 0 <= x <= 16)\n",
    "@variable(Masterproblem, alpha_var)\n",
    "@objective(Masterproblem, Min, -(x /4)+ alpha_var);"
   ]
  },
  {
   "cell_type": "code",
   "execution_count": 77,
   "id": "64930477",
   "metadata": {},
   "outputs": [
    {
     "name": "stdout",
     "output_type": "stream",
     "text": [
      "\n",
      " iteration no 1 \n",
      "-5.0 objective value sub \n",
      "-25.0\n",
      " Objective_value Masterproblem \n",
      "16.0 value x\n",
      "-21.0 value alpha\n",
      "alpha = -21.0 & -y= -5.0 \n",
      "\n",
      " iteration no 2 \n",
      "-9.5 objective value sub \n",
      "-15.416666666666668\n",
      " Objective_value Masterproblem \n",
      "8.333333333333334 value x\n",
      "-13.333333333333334 value alpha\n",
      "alpha = -13.333333333333334 & -y= -9.5 \n",
      "\n",
      " iteration no 3 \n",
      "-11.666666666666668 objective value sub \n",
      "-15.0\n",
      " Objective_value Masterproblem \n",
      "10.0 value x\n",
      "-12.5 value alpha\n",
      "alpha = -12.5 & -y= -11.666666666666668 \n",
      "\n",
      " iteration no 4 \n",
      "-12.5 objective value sub \n",
      "-15.0\n",
      " Objective_value Masterproblem \n",
      "10.0 value x\n",
      "-12.5 value alpha\n",
      "alpha = -12.5 & -y= -12.5 \n"
     ]
    }
   ],
   "source": [
    "#solving the problem with Benders decomposition using dual dynamic programming – DDP\n",
    "\n",
    "while wert!=alpha\n",
    "    print(\"\\n iteration no $i \\n\")\n",
    "    \n",
    "    # optimize dual subproblem with fixed value of x\n",
    "    @objective(dual_Subproblem, Max, -λ*(5+x_input)+ -γ*(7.5+(x_input/2)) + -μ*(17.5-(x_input/2)) + -β* (10 - x_input))\n",
    "    optimize!(dual_Subproblem)\n",
    "        \n",
    "    wert = objective_value(dual_Subproblem)\n",
    "    print(wert)\n",
    "    print(\" objective value sub \\n\")\n",
    "    \n",
    "    # add benders cut (as constraint with dual variable from the subproblem)\n",
    "    @constraint(Masterproblem, value(λ)*(-5-x) + value(γ)*(-7.5 -(x/2)) + value(μ) *(-17.5 +(x/2)) +value(β) *(-10 +x) <= alpha_var)\n",
    "    \n",
    "    # solve masterproblem with new constraint\n",
    "    optimize!(Masterproblem)\n",
    "    \n",
    "        print(objective_value(Masterproblem))\n",
    "    print(\"\\n Objective_value Masterproblem \\n\")\n",
    "    print(value(x))\n",
    "    print(\" value x\\n\")\n",
    "    alpha=value(alpha_var)\n",
    "    print(alpha)\n",
    "    print(\" value alpha\\n\")\n",
    "    # compare solution of the subproblem with solution of alpha in the masterproblem\n",
    "    print(\"alpha = $alpha & -y= $wert \\n\")\n",
    "    # update fixed value of x\n",
    "    x_input=value(x)\n",
    "    i=i+1\n",
    "    \n",
    "    \n",
    "end"
   ]
  }
 ],
 "metadata": {
  "kernelspec": {
   "display_name": "Julia 1.9.3",
   "language": "julia",
   "name": "julia-1.9"
  },
  "language_info": {
   "file_extension": ".jl",
   "mimetype": "application/julia",
   "name": "julia",
   "version": "1.9.3"
  }
 },
 "nbformat": 4,
 "nbformat_minor": 5
}
