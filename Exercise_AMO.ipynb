{
 "cells": [
  {
   "cell_type": "code",
   "execution_count": 1,
   "id": "151a605a",
   "metadata": {},
   "outputs": [
    {
     "name": "stderr",
     "output_type": "stream",
     "text": [
      "\u001b[32m\u001b[1m  Activating\u001b[22m\u001b[39m project at `C:\\Users\\lukas\\.julia\\environments\\v1.9`\n"
     ]
    }
   ],
   "source": [
    "using Pkg\n",
    "Pkg.activate(\".\")\n",
    "Pkg.instantiate()"
   ]
  },
  {
   "cell_type": "code",
   "execution_count": 2,
   "id": "fd1287a1",
   "metadata": {},
   "outputs": [
    {
     "name": "stdout",
     "output_type": "stream",
     "text": [
      "\u001b[32m\u001b[1mStatus\u001b[22m\u001b[39m `C:\\Users\\lukas\\.julia\\environments\\v1.9\\Project.toml`\n",
      "  \u001b[90m[87dc4568] \u001b[39mHiGHS v1.7.5\n",
      "  \u001b[90m[7073ff75] \u001b[39mIJulia v1.24.2\n",
      "\u001b[32m⌃\u001b[39m \u001b[90m[4076af6c] \u001b[39mJuMP v1.16.0\n",
      "\u001b[36m\u001b[1mInfo\u001b[22m\u001b[39m Packages marked with \u001b[32m⌃\u001b[39m have new versions available and may be upgradable.\n"
     ]
    }
   ],
   "source": [
    "Pkg.status()"
   ]
  },
  {
   "cell_type": "code",
   "execution_count": 3,
   "id": "01c63e85-1375-4e51-b9ca-e5a067bdf230",
   "metadata": {},
   "outputs": [],
   "source": [
    "using JuMP, HiGHS"
   ]
  },
  {
   "cell_type": "markdown",
   "id": "8b3c5c86",
   "metadata": {},
   "source": [
    "# Description of the Problem "
   ]
  },
  {
   "cell_type": "markdown",
   "id": "0a7350ec",
   "metadata": {},
   "source": [
    "A manager of a VVP is interested in maximizing his profit. His VVP consists of the following components:\n",
    "\n",
    "*  A dispatchable power plant that burn fossil fuels to produce electricity\n",
    "* Flexible loads which are owned by the VVP\n",
    "* Storage equipment \n",
    "* A stochastic generating unit that produce energy using wheater-driven energy sources\n",
    "\n",
    "The VVP manager wants to know how much energie $Pd$ he should sell to the market in order to maximize his profit. But he wants to take the uncertainty of his wind turbine into account. Therefore, he\n",
    "considers two scenarios $w1$ and $w2$ and three consectutive time intervalls $T= t1, t2 ,t3 $ for his operation. His analysts estimate that the market clearing price $λ= 20$ is constant for both scenarios and all times $T$. "
   ]
  },
  {
   "cell_type": "code",
   "execution_count": 4,
   "id": "d9c73f37-cfbe-4842-b6ec-dc215142d59b",
   "metadata": {},
   "outputs": [
    {
     "data": {
      "text/plain": [
       "3-element Vector{VariableRef}:\n",
       " Pd[1]\n",
       " Pd[2]\n",
       " Pd[3]"
      ]
     },
     "execution_count": 4,
     "metadata": {},
     "output_type": "execute_result"
    }
   ],
   "source": [
    "λ= 20  #market clearing price\n",
    "w=[0.2, 0.8] #probabilities for three different scenarios\n",
    "Pw1=[0, 200, 300] #Power output wind turbine for Scencario 1 for t=1 to t=3\n",
    "Pw2=[50, 210, 200] #Power output wind turbine for Scencario 2 for t=1 to t=3\n",
    "\n",
    "#initalize Model\n",
    "profit = Model(HiGHS.Optimizer)\n",
    "#Pd amount of energie to sell to the market for t=1 to t=3\n",
    "@variable(profit, Pd[1:3])"
   ]
  },
  {
   "cell_type": "markdown",
   "id": "a7028711",
   "metadata": {},
   "source": [
    "## Dispatchable Power Plants"
   ]
  },
  {
   "cell_type": "markdown",
   "id": "cea3f273",
   "metadata": {},
   "source": [
    "The VVP Manager has one coal-fired power station $Pg$ which produces energie $E_{G}$ within the range $E_{G}^{min} \\le E_{G} \\le E_{G}^{max}$.\n",
    "Since the power plant is running on fossil resources, the power plant has marginal costs of 25 dollars and is described by the cost function: $C_{G}(E_{G})$\n",
    "\n",
    "$C_{i}(E_{Gi})$ Cost function for generating amount of energy $E_{Gi}$\n",
    "<br/>\n",
    "\n",
    "This gives us the following variables:$"
   ]
  },
  {
   "cell_type": "code",
   "execution_count": 5,
   "id": "120628e9-d690-4901-93cb-ac0e098cb192",
   "metadata": {},
   "outputs": [
    {
     "data": {
      "text/plain": [
       "3-element Vector{VariableRef}:\n",
       " Pg_w2[1]\n",
       " Pg_w2[2]\n",
       " Pg_w2[3]"
      ]
     },
     "execution_count": 5,
     "metadata": {},
     "output_type": "execute_result"
    }
   ],
   "source": [
    "Pg_min=180 #min power output of powerplant Pg\n",
    "Pg_max=440 #max power output of powerplant Pg\n",
    "\n",
    "Cg= 25 #marginal costs of producing one unit of energy for powerplant Pg\n",
    "\n",
    "@variable(profit, Pg_min <= Pg_w1[1:3] <= Pg_max ) #define dispatchable pp output for scenario 1 (w1) for t=1 to t=3\n",
    "@variable(profit, Pg_min <= Pg_w2[1:3] <= Pg_max ) #define dispatchable pp output for scenario 2 (w2) for t=1 to t=3"
   ]
  },
  {
   "cell_type": "markdown",
   "id": "e6c2f5f7-364b-4257-844f-83e9171ccf10",
   "metadata": {},
   "source": [
    "## Flexible loads"
   ]
  },
  {
   "cell_type": "markdown",
   "id": "08987767-ae42-46a3-bfb0-efbcc4a80a5e",
   "metadata": {},
   "source": [
    "The VVP Manager has the option to use the produced energie for his small hydrogen production plant $El$ instead of selling it to the market. By selling the hydrogen, he gets a utility $Ul$ of 17 dollars. However, his buyers do not always need the same amount of energie, so $El$ is limited to $0 \\le El \\le El^{max}$ for each $T$\n",
    "<br/>\n",
    "<br/>\n",
    "This gives us the following variables:"
   ]
  },
  {
   "cell_type": "code",
   "execution_count": 6,
   "id": "9c40561a-f516-468f-85d4-0e74d0445f97",
   "metadata": {},
   "outputs": [
    {
     "data": {
      "text/plain": [
       "1-dimensional DenseAxisArray{VariableRef,1,...} with index sets:\n",
       "    Dimension 1, [1, 2, 3]\n",
       "And data, a 3-element Vector{VariableRef}:\n",
       " El_w2[1]\n",
       " El_w2[2]\n",
       " El_w2[3]"
      ]
     },
     "execution_count": 6,
     "metadata": {},
     "output_type": "execute_result"
    }
   ],
   "source": [
    "Ul=17 #utility from using the produced energy for the flexible load\n",
    "El_max=[100, 50, 30] #maximum for flexible loads\n",
    "\n",
    "@variable(profit, 0<= El_w1[i in keys(El_max)] <= El_max[i]) #define flexible load output for scenario 1 (w1) for t=1 to t=3\n",
    "@variable(profit, 0<= El_w2[i in keys(El_max)] <= El_max[i]) #define flexible load output for scenario 2 (w2) for t=1 to t=3"
   ]
  },
  {
   "cell_type": "markdown",
   "id": "1d8934c5-d35a-43c4-9e36-b38439fce8a6",
   "metadata": {},
   "source": [
    "## Storage Equipment"
   ]
  },
  {
   "cell_type": "markdown",
   "id": "84752e2b-fc2d-478d-8447-b15191f8de5f",
   "metadata": {},
   "source": [
    "The VVP Manager has also a storing unit $Ps$ where he can charge and discharge energie at any time $T$. However, the storage $Es$\n",
    "is limited to $SOC^{min} \\le Es \\le SOC^{max}$ and the unit charges $Psc$ and discharges $Psd$ only at a certain rate $Psc^{min} \\le Psc \\le Psc^{max}$ ;\n",
    "$Psd^{min} \\le Psd \\le Pscd^{max}$ with a given charging efficiency $nc = 0.95$ and discharging efficiency $nd = 0.9$ \n",
    "\n",
    "This gives us the following variables and constraints:"
   ]
  },
  {
   "cell_type": "code",
   "execution_count": 7,
   "id": "866f98e0-9bbd-4e15-8d46-0f8e77b586b2",
   "metadata": {},
   "outputs": [
    {
     "data": {
      "text/latex": [
       "$$ -0.95 Psc\\_w2_{3} + 1.1111111111111112 Psd\\_w2_{3} - Es\\_w2_{2} + Es\\_w2_{3} = 0 $$"
      ],
      "text/plain": [
       "-0.95 Psc_w2[3] + 1.1111111111111112 Psd_w2[3] - Es_w2[2] + Es_w2[3] == 0"
      ]
     },
     "execution_count": 7,
     "metadata": {},
     "output_type": "execute_result"
    }
   ],
   "source": [
    "SOC_max= 300 #max capacity of the battery\n",
    "SOC_min= 100 #max capacity of the battery\n",
    "\n",
    "Psd_max= 0.2 * SOC_max #max decharging rate for the battery\n",
    "Psc_max= 0.2 * SOC_max #max charging rate for the battery\n",
    "\n",
    "nc= 0.95 #charging efficiency \n",
    "nd = 0.9 #discharging efficiency\n",
    "\n",
    "#maximum charging and discharge rate for w1 for all T\n",
    "@variable(profit, 0<= Psc_w1[1:3] <= Psc_max) \n",
    "@variable(profit, 0<= Psd_w1[1:3] <= Psd_max)\n",
    "\n",
    "#maximum charging and discharge rate for w2 for all T\n",
    "@variable(profit, 0<= Psc_w2[1:3] <= Psc_max)\n",
    "@variable(profit, 0<= Psd_w2[1:3] <= Psd_max)\n",
    "\n",
    "#amount of enegerie whtinn storage unit  in w1 for all T\n",
    "@variable(profit, SOC_min <= Es_w1[1:3] <= SOC_max)\n",
    "@constraint(profit, Es_w1[1] == 100 + nc * Psc_w1[1] - 1/nd * Psd_w1[1])\n",
    "@constraint(profit, Es_w1[2] == Es_w1[1] + nc * Psc_w1[2] - 1/nd * Psd_w1[2])\n",
    "@constraint(profit, Es_w1[3] == Es_w1[2] + nc * Psc_w1[3] - 1/nd * Psd_w1[3])\n",
    "\n",
    "@variable(profit, SOC_min <= Es_w2[1:3] <= SOC_max) #amount of enegerie whtinn storage unit  in w2 for all T\n",
    "@constraint(profit, Es_w2[1] == 100 + nc * Psc_w2[1] - 1/nd * Psd_w2[1])\n",
    "@constraint(profit, Es_w2[2] == Es_w2[1] + nc * Psc_w2[2] - 1/nd * Psd_w2[2])\n",
    "@constraint(profit, Es_w2[3] == Es_w2[2] + nc * Psc_w2[3] - 1/nd * Psd_w2[3])"
   ]
  },
  {
   "cell_type": "markdown",
   "id": "7e9f8239-846b-4bc8-8adc-4d8da7c3acc8",
   "metadata": {},
   "source": [
    "## Stochastic generating units"
   ]
  },
  {
   "cell_type": "markdown",
   "id": "ec41041b-9f87-4240-b6e7-e68e256b87ae",
   "metadata": {},
   "source": [
    "The VVP modeled the power output for his wind turbine $Pw$ for two scenarios depending on the wind conditions at the given time T. However, \n",
    "the manager has the option to curtail the production $Pw^{curt}$\n",
    "\n",
    "This gives us the following variables:"
   ]
  },
  {
   "cell_type": "code",
   "execution_count": 8,
   "id": "60c95558-b834-40cd-9903-c9fc64e29757",
   "metadata": {},
   "outputs": [
    {
     "data": {
      "text/plain": [
       "1-dimensional DenseAxisArray{VariableRef,1,...} with index sets:\n",
       "    Dimension 1, [1, 2, 3]\n",
       "And data, a 3-element Vector{VariableRef}:\n",
       " Pw2_curt[1]\n",
       " Pw2_curt[2]\n",
       " Pw2_curt[3]"
      ]
     },
     "execution_count": 8,
     "metadata": {},
     "output_type": "execute_result"
    }
   ],
   "source": [
    "Pw1=[0, 200, 300] #Scencario 1 for t=1 to t=3\n",
    "Pw2=[50, 210, 200] #Scencario 2 for t=1 to t=3\n",
    "\n",
    "@variable(profit, 0<= Pw1_curt[i in keys(El_max)] <= Pw1[i])\n",
    "@variable(profit, 0<= Pw2_curt[i in keys(El_max)] <= Pw2[i])"
   ]
  },
  {
   "cell_type": "markdown",
   "id": "c79b1cf2-6c17-4d61-9653-6d34a1154d3c",
   "metadata": {},
   "source": [
    "## Ohter constraints "
   ]
  },
  {
   "cell_type": "markdown",
   "id": "cb77d053-0ebc-449d-9d87-c865ca17daa3",
   "metadata": {},
   "source": [
    "Besides the constraints of the varialbes, the amount of energie produced and consumed has to be at balance at any given point in time $T$\n",
    "$\\sum_{i} E_Giw (t) + \\bigg(\\sum \\hat{P}_{W_qw} (t) -P^{curt}_{Wqw}(t)+ \\sum_{k} P^d_{Skw} \\bigg) = \\sum_{j} E_{L_jw} (t) + \n",
    "\\bigg (\\sum_{k} P^c_{Skw} + P^D (t) \\bigg)$\n",
    "\n",
    "This gives us the constraints:"
   ]
  },
  {
   "cell_type": "code",
   "execution_count": 9,
   "id": "ed34ed71-e21b-4c9b-95ca-88dc37a61c5e",
   "metadata": {},
   "outputs": [],
   "source": [
    "for g in keys(El_max)\n",
    "    @constraint(profit, Pd[g] == Pg_w1[g] + Pw1[g] + Psd_w1[g] - Psc_w1[g] - El_w1[g] -Pw1_curt[g])\n",
    "end\n",
    "for g in keys(El_max)\n",
    "    @constraint(profit, Pd[g] == Pg_w2[g] + Pw2[g] + Psd_w2[g] - Psc_w2[g] - El_w2[g] -Pw2_curt[g])\n",
    "end"
   ]
  },
  {
   "cell_type": "markdown",
   "id": "8fc6889d-079c-4ee7-ae4d-f17cae6c859d",
   "metadata": {},
   "source": [
    "## Formulating Objective Function"
   ]
  },
  {
   "cell_type": "markdown",
   "id": "a3a26bed-ea3c-458e-9819-d1cd7b036a2c",
   "metadata": {},
   "source": [
    "Given the formulated variables and constraints the VPP manager can formulate his objective function:\n",
    "<br/>\n",
    "$\\max\\sum_{t=1}^{T} \\bigg(\\lambda^D (t).P^D (t) - \\sum_{i} C_i(E_Gi(t)) + \\sum U_j(E_Gj(t))\\bigg)$\n",
    "    "
   ]
  },
  {
   "cell_type": "code",
   "execution_count": 10,
   "id": "68c7880d-3088-431b-b1fc-caf104c6bbec",
   "metadata": {},
   "outputs": [
    {
     "data": {
      "text/latex": [
       "$ 20 Pd_{1} + 20 Pd_{2} + 20 Pd_{3} - 5 Pg\\_w1_{1} - 5 Pg\\_w1_{2} - 5 Pg\\_w1_{3} + 3.4000000000000004 El\\_w1_{1} + 3.4000000000000004 El\\_w1_{2} + 3.4000000000000004 El\\_w1_{3} - 20 Pg\\_w2_{1} - 20 Pg\\_w2_{2} - 20 Pg\\_w2_{3} + 13.600000000000001 El\\_w2_{1} + 13.600000000000001 El\\_w2_{2} + 13.600000000000001 El\\_w2_{3} $"
      ],
      "text/plain": [
       "20 Pd[1] + 20 Pd[2] + 20 Pd[3] - 5 Pg_w1[1] - 5 Pg_w1[2] - 5 Pg_w1[3] + 3.4000000000000004 El_w1[1] + 3.4000000000000004 El_w1[2] + 3.4000000000000004 El_w1[3] - 20 Pg_w2[1] - 20 Pg_w2[2] - 20 Pg_w2[3] + 13.600000000000001 El_w2[1] + 13.600000000000001 El_w2[2] + 13.600000000000001 El_w2[3]"
      ]
     },
     "execution_count": 10,
     "metadata": {},
     "output_type": "execute_result"
    }
   ],
   "source": [
    "@objective(profit, Max, \n",
    "        sum(Pd[i]*λ for i in keys(Pd))+\n",
    "        w[1] * (\n",
    "        -sum(Pg_w1[i]*Cg for i in keys(Pg_w1)) \n",
    "        +sum(El_w1[i]*Ul for i in keys(El_w1)) \n",
    "        )+   \n",
    "        w[2] *(\n",
    "        -sum(Pg_w2[i]*Cg for i in keys(Pg_w2)) \n",
    "        +sum(El_w2[i]*Ul for i in keys(El_w2)) \n",
    "        )\n",
    ")"
   ]
  },
  {
   "cell_type": "markdown",
   "id": "49f83145-04fa-4a35-bf14-4286719629f9",
   "metadata": {},
   "source": [
    "## Overview of the objective function and constraints"
   ]
  },
  {
   "cell_type": "code",
   "execution_count": 11,
   "id": "ae964a57-4ca2-4c44-9cc3-c286d0dc4273",
   "metadata": {},
   "outputs": [
    {
     "data": {
      "text/latex": [
       "$$ \\begin{aligned}\n",
       "\\max\\quad & 20 Pd_{1} + 20 Pd_{2} + 20 Pd_{3} - 5 Pg\\_w1_{1} - 5 Pg\\_w1_{2} - 5 Pg\\_w1_{3} + 3.4000000000000004 El\\_w1_{1} + 3.4000000000000004 El\\_w1_{2} + 3.4000000000000004 El\\_w1_{3} - 20 Pg\\_w2_{1} - 20 Pg\\_w2_{2} - 20 Pg\\_w2_{3} + 13.600000000000001 El\\_w2_{1} + 13.600000000000001 El\\_w2_{2} + 13.600000000000001 El\\_w2_{3}\\\\\n",
       "\\text{Subject to} \\quad & -0.95 Psc\\_w1_{1} + 1.1111111111111112 Psd\\_w1_{1} + Es\\_w1_{1} = 100\\\\\n",
       " & -0.95 Psc\\_w1_{2} + 1.1111111111111112 Psd\\_w1_{2} - Es\\_w1_{1} + Es\\_w1_{2} = 0\\\\\n",
       " & -0.95 Psc\\_w1_{3} + 1.1111111111111112 Psd\\_w1_{3} - Es\\_w1_{2} + Es\\_w1_{3} = 0\\\\\n",
       " & -0.95 Psc\\_w2_{1} + 1.1111111111111112 Psd\\_w2_{1} + Es\\_w2_{1} = 100\\\\\n",
       " & -0.95 Psc\\_w2_{2} + 1.1111111111111112 Psd\\_w2_{2} - Es\\_w2_{1} + Es\\_w2_{2} = 0\\\\\n",
       " & -0.95 Psc\\_w2_{3} + 1.1111111111111112 Psd\\_w2_{3} - Es\\_w2_{2} + Es\\_w2_{3} = 0\\\\\n",
       " & Pd_{1} - Pg\\_w1_{1} + El\\_w1_{1} + Psc\\_w1_{1} - Psd\\_w1_{1} + Pw1\\_curt_{1} = 0\\\\\n",
       " & Pd_{2} - Pg\\_w1_{2} + El\\_w1_{2} + Psc\\_w1_{2} - Psd\\_w1_{2} + Pw1\\_curt_{2} = 200\\\\\n",
       " & Pd_{3} - Pg\\_w1_{3} + El\\_w1_{3} + Psc\\_w1_{3} - Psd\\_w1_{3} + Pw1\\_curt_{3} = 300\\\\\n",
       " & Pd_{1} - Pg\\_w2_{1} + El\\_w2_{1} + Psc\\_w2_{1} - Psd\\_w2_{1} + Pw2\\_curt_{1} = 50\\\\\n",
       " & Pd_{2} - Pg\\_w2_{2} + El\\_w2_{2} + Psc\\_w2_{2} - Psd\\_w2_{2} + Pw2\\_curt_{2} = 210\\\\\n",
       " & Pd_{3} - Pg\\_w2_{3} + El\\_w2_{3} + Psc\\_w2_{3} - Psd\\_w2_{3} + Pw2\\_curt_{3} = 200\\\\\n",
       " & Pg\\_w1_{1} \\geq 180\\\\\n",
       " & Pg\\_w1_{2} \\geq 180\\\\\n",
       " & Pg\\_w1_{3} \\geq 180\\\\\n",
       " & Pg\\_w2_{1} \\geq 180\\\\\n",
       " & Pg\\_w2_{2} \\geq 180\\\\\n",
       " & Pg\\_w2_{3} \\geq 180\\\\\n",
       " & El\\_w1_{1} \\geq 0\\\\\n",
       " & El\\_w1_{2} \\geq 0\\\\\n",
       " & El\\_w1_{3} \\geq 0\\\\\n",
       " & El\\_w2_{1} \\geq 0\\\\\n",
       " & El\\_w2_{2} \\geq 0\\\\\n",
       " & El\\_w2_{3} \\geq 0\\\\\n",
       " & Psc\\_w1_{1} \\geq 0\\\\\n",
       " & Psc\\_w1_{2} \\geq 0\\\\\n",
       " & Psc\\_w1_{3} \\geq 0\\\\\n",
       " & Psd\\_w1_{1} \\geq 0\\\\\n",
       " & Psd\\_w1_{2} \\geq 0\\\\\n",
       " & Psd\\_w1_{3} \\geq 0\\\\\n",
       " & Psc\\_w2_{1} \\geq 0\\\\\n",
       " & Psc\\_w2_{2} \\geq 0\\\\\n",
       " & Psc\\_w2_{3} \\geq 0\\\\\n",
       " & Psd\\_w2_{1} \\geq 0\\\\\n",
       " & Psd\\_w2_{2} \\geq 0\\\\\n",
       " & Psd\\_w2_{3} \\geq 0\\\\\n",
       " & Es\\_w1_{1} \\geq 100\\\\\n",
       " & Es\\_w1_{2} \\geq 100\\\\\n",
       " & Es\\_w1_{3} \\geq 100\\\\\n",
       " & Es\\_w2_{1} \\geq 100\\\\\n",
       " & Es\\_w2_{2} \\geq 100\\\\\n",
       " & Es\\_w2_{3} \\geq 100\\\\\n",
       " & Pw1\\_curt_{1} \\geq 0\\\\\n",
       " & Pw1\\_curt_{2} \\geq 0\\\\\n",
       " & Pw1\\_curt_{3} \\geq 0\\\\\n",
       " & Pw2\\_curt_{1} \\geq 0\\\\\n",
       " & Pw2\\_curt_{2} \\geq 0\\\\\n",
       " & Pw2\\_curt_{3} \\geq 0\\\\\n",
       " & Pg\\_w1_{1} \\leq 440\\\\\n",
       " & Pg\\_w1_{2} \\leq 440\\\\\n",
       " & Pg\\_w1_{3} \\leq 440\\\\\n",
       " & Pg\\_w2_{1} \\leq 440\\\\\n",
       " & Pg\\_w2_{2} \\leq 440\\\\\n",
       " & Pg\\_w2_{3} \\leq 440\\\\\n",
       " & El\\_w1_{1} \\leq 100\\\\\n",
       " & El\\_w1_{2} \\leq 50\\\\\n",
       " & El\\_w1_{3} \\leq 30\\\\\n",
       " & El\\_w2_{1} \\leq 100\\\\\n",
       " & El\\_w2_{2} \\leq 50\\\\\n",
       " & El\\_w2_{3} \\leq 30\\\\\n",
       " & Psc\\_w1_{1} \\leq 60\\\\\n",
       " & Psc\\_w1_{2} \\leq 60\\\\\n",
       " & Psc\\_w1_{3} \\leq 60\\\\\n",
       " & Psd\\_w1_{1} \\leq 60\\\\\n",
       " & Psd\\_w1_{2} \\leq 60\\\\\n",
       " & Psd\\_w1_{3} \\leq 60\\\\\n",
       " & Psc\\_w2_{1} \\leq 60\\\\\n",
       " & Psc\\_w2_{2} \\leq 60\\\\\n",
       " & Psc\\_w2_{3} \\leq 60\\\\\n",
       " & Psd\\_w2_{1} \\leq 60\\\\\n",
       " & Psd\\_w2_{2} \\leq 60\\\\\n",
       " & Psd\\_w2_{3} \\leq 60\\\\\n",
       " & Es\\_w1_{1} \\leq 300\\\\\n",
       " & Es\\_w1_{2} \\leq 300\\\\\n",
       " & Es\\_w1_{3} \\leq 300\\\\\n",
       " & Es\\_w2_{1} \\leq 300\\\\\n",
       " & Es\\_w2_{2} \\leq 300\\\\\n",
       " & Es\\_w2_{3} \\leq 300\\\\\n",
       " & Pw1\\_curt_{1} \\leq 0\\\\\n",
       " & Pw1\\_curt_{2} \\leq 200\\\\\n",
       " & Pw1\\_curt_{3} \\leq 300\\\\\n",
       " & Pw2\\_curt_{1} \\leq 50\\\\\n",
       " & Pw2\\_curt_{2} \\leq 210\\\\\n",
       " & Pw2\\_curt_{3} \\leq 200\\\\\n",
       "\\end{aligned} $$"
      ]
     },
     "metadata": {},
     "output_type": "display_data"
    }
   ],
   "source": [
    "print(profit)"
   ]
  },
  {
   "cell_type": "markdown",
   "id": "41e81437-56f8-4208-b838-c0f9251916df",
   "metadata": {},
   "source": [
    "## Optimizing the function"
   ]
  },
  {
   "cell_type": "code",
   "execution_count": 12,
   "id": "7735f5ce-1662-42b2-9fea-fad6535fb2e2",
   "metadata": {},
   "outputs": [
    {
     "name": "stdout",
     "output_type": "stream",
     "text": [
      "Running HiGHS 1.6.0: Copyright (c) 2023 HiGHS under MIT licence terms\n",
      "Presolving model\n",
      "12 rows, 38 cols, 57 nonzeros\n",
      "12 rows, 38 cols, 57 nonzeros\n",
      "Presolve : Reductions: rows 12(-0); columns 38(-1); elements 57(-1)\n",
      "Solving the presolved LP\n",
      "Using EKK dual simplex solver - serial\n",
      "  Iteration        Objective     Infeasibilities num(sum)\n",
      "          0    -6.0000000000e+04 Ph1: 6(6000); Du: 3(60) 0s\n",
      "         15    -6.4330877193e+03 Pr: 0(0) 0s\n",
      "Solving the original LP from the solution after postsolve\n",
      "Model   status      : Optimal\n",
      "Simplex   iterations: 15\n",
      "Objective value     :  6.4330877193e+03\n",
      "HiGHS run time      :          0.00\n"
     ]
    }
   ],
   "source": [
    "optimize!(profit)"
   ]
  },
  {
   "cell_type": "code",
   "execution_count": 13,
   "id": "afc2e7ec-bf98-4676-8bc0-beddfed9033c",
   "metadata": {},
   "outputs": [
    {
     "name": "stdout",
     "output_type": "stream",
     "text": [
      " value= 180.0 value= 369.82456140350877 value= 440.0"
     ]
    }
   ],
   "source": [
    "for i in keys(Pd) \n",
    "    print(\" value= \", value(Pd[i]))\n",
    "end"
   ]
  },
  {
   "cell_type": "code",
   "execution_count": 14,
   "id": "72aa0606-5632-48a4-ac63-2f44740c8c52",
   "metadata": {},
   "outputs": [
    {
     "name": "stdout",
     "output_type": "stream",
     "text": [
      "Pd[1] = 180.0\n",
      "Pd[2] = 369.82456140350877\n",
      "Pd[3] = 440.0\n",
      "Pg_w1[1] = 180.0\n",
      "Pg_w1[2] = 180.0\n",
      "Pg_w1[3] = 180.0\n",
      "Pg_w2[1] = 180.0\n",
      "Pg_w2[2] = 180.0\n",
      "Pg_w2[3] = 180.0\n",
      "El_w1[1] = 0.0\n",
      "El_w1[2] = 10.175438596491233\n",
      "El_w1[3] = 30.0\n",
      "El_w2[1] = 0.0\n",
      "El_w2[2] = 0.0\n",
      "El_w2[3] = 0.0\n",
      "Psc_w1[1] = 0.0\n",
      "Psc_w1[2] = 0.0\n",
      "Psc_w1[3] = 0.0\n",
      "Psd_w1[1] = -0.0\n",
      "Psd_w1[2] = -0.0\n",
      "Psd_w1[3] = 0.0\n",
      "Psc_w2[1] = 50.0\n",
      "Psc_w2[2] = 20.175438596491247\n",
      "Psc_w2[3] = 0.0\n",
      "Psd_w2[1] = 0.0\n",
      "Psd_w2[2] = 0.0\n",
      "Psd_w2[3] = 60.0\n",
      "Es_w1[1] = 100.0\n",
      "Es_w1[2] = 100.0\n",
      "Es_w1[3] = 100.0\n",
      "Es_w2[1] = 147.5\n",
      "Es_w2[2] = 166.66666666666669\n",
      "Es_w2[3] = 100.0\n",
      "Pw1_curt[1] = 0.0\n",
      "Pw1_curt[2] = 0.0\n",
      "Pw1_curt[3] = 10.0\n",
      "Pw2_curt[1] = 0.0\n",
      "Pw2_curt[2] = 0.0\n",
      "Pw2_curt[3] = 0.0\n"
     ]
    }
   ],
   "source": [
    "for variable in all_variables(profit)\n",
    "    println(string(name(variable), \" = \", value(variable)))\n",
    "end"
   ]
  },
  {
   "cell_type": "markdown",
   "id": "41768861-29c7-4b45-8ddd-b7e3dbcbe309",
   "metadata": {},
   "source": [
    "The solver delivered a optimal solution. The VVP Manager can expect to make a profit of approximately 6433 dollars. "
   ]
  }
 ],
 "metadata": {
  "kernelspec": {
   "display_name": "Julia 1.9.3",
   "language": "julia",
   "name": "julia-1.9"
  },
  "language_info": {
   "file_extension": ".jl",
   "mimetype": "application/julia",
   "name": "julia",
   "version": "1.9.3"
  }
 },
 "nbformat": 4,
 "nbformat_minor": 5
}
